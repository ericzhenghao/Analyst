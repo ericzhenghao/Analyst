{
 "cells": [
  {
   "cell_type": "markdown",
   "metadata": {},
   "source": [
    "### 统计学：检验心理学现象\n",
    "\n",
    "在下方单元格中回答问题并执行相关代码，你可以 [参考项目指导](https://github.com/udacity/new-dand-advanced-china/blob/master/%E6%A3%80%E9%AA%8C%E5%BF%83%E7%90%86%E5%AD%A6%E7%8E%B0%E8%B1%A1/%E7%BB%9F%E8%AE%A1%E5%AD%A6%EF%BC%9A%E6%A3%80%E9%AA%8C%E5%BF%83%E7%90%86%E5%AD%A6%E7%8E%B0%E8%B1%A1.md) 并在正式提交前查看 [项目要求](https://review.udacity.com/#!/rubrics/305/view)。提交时请将 Jupyter notebook 导出成 HTML 或者 PDF 进行提交（File -> Download As）。\n",
    "\n",
    "背景信息\n",
    "\n",
    "在一个Stroop （斯特鲁普）任务中，参与者得到了一列文字，每个文字都用一种油墨颜色展示。参与者的任务是将文字的打印颜色大声说出来。这项任务有两个条件：一致文字条件，和不一致文字条件。在一致文字条件中，显示的文字是与它们的打印颜色匹配的颜色词，如“红色”、“蓝色”。在不一致文字条件中，显示的文字是与它们的打印颜色不匹配的颜色词，如“紫色”、“橙色”。在每个情况中，我们将计量说出同等大小的列表中的墨色名称的时间。每位参与者必须全部完成并记录每种条件下使用的时间。\n",
    "\n",
    "调查问题\n",
    "\n",
    "作为一般说明，请确保记录你在创建项目时使用或参考的任何资源。作为项目提交的一部分，你将需要报告信息来源。\n",
    "\n",
    "(1) 我们的自变量是什么？因变量是什么？"
   ]
  },
  {
   "cell_type": "markdown",
   "metadata": {},
   "source": [
    "自变量是文字和油墨颜色是否一致，因变量是受测者说出正确墨色名称的时间"
   ]
  },
  {
   "cell_type": "markdown",
   "metadata": {},
   "source": [
    "(2) 此任务的适当假设集是什么？你需要以文字和数学符号方式对假设集中的零假设和对立假设加以说明，并对数学符号进行定义。你想执行什么类型的统计检验？为你的选择提供正当理由（比如，为何该实验满足你所选统计检验的前置条件）。"
   ]
  },
  {
   "cell_type": "markdown",
   "metadata": {},
   "source": [
    "假设集\n",
    "\n",
    "<font  size=5 >x</font> <font  size=2 >1</font> 表示文字和颜色一致下读取时间的总体均值\n",
    "\n",
    "<font  size=5 >x</font> <font  size=2 >2</font> 表示文字和颜色不一致下读取时间的总体均值\n",
    "\n",
    "假设条件\n",
    "\n",
    "<font  size=5 >H</font> <font  size=2 >0</font> = <font  size=5 >x</font> <font  size=2 >1</font> - <font  size=5 >x</font> <font  size=2 >2</font> = 0    文字与颜色一不一致不影响读出时间\n",
    "\n",
    "<font  size=5 >H</font> <font  size=2 >1</font> = <font  size=5 >x</font> <font  size=2 >1</font> - <font  size=5 >x</font> <font  size=2 >2</font> != 0    文字和颜色一不一致影响读出时间\n",
    "\n",
    "由于样本量小于30，样本分布符合正态分布（每对数据的差异），受试者接受前后两种单一变量不同的测试，适合使用配对T检测。 假设两种时间相同，在检验给出两种条件的数据的差值是否具备显著性。\n",
    "\n",
    "参考文献：https://zhidao.baidu.com/question/27466178.html                        \n",
    "\n",
    "          https://wenku.baidu.com/view/4fdb0984d4d8d15abe234edb.html\n",
    "          \n",
    "          https://wenku.baidu.com/view/0dac87170b4e767f5acfcee6.html?sxts=1573024055043"
   ]
  },
  {
   "cell_type": "markdown",
   "metadata": {},
   "source": [
    "现在轮到你自行尝试 Stroop 任务了。前往[此链接](https://faculty.washington.edu/chudler/java/ready.html)，其中包含一个基于 Java 的小程序，专门用于执行 Stroop 任务。记录你收到的任务时间（你无需将时间提交到网站）。现在[下载此数据集](https://s3.cn-north-1.amazonaws.com.cn/static-documents/nd002/stroopdata.csv)，其中包含一些任务参与者的结果。数据集的每行包含一名参与者的表现，第一个数字代表他们的一致任务结果，第二个数字代表不一致任务结果。\n",
    "\n",
    "(3) 报告关于此数据集的一些描述性统计。包含至少一个集中趋势测量和至少一个变异测量。"
   ]
  },
  {
   "cell_type": "code",
   "execution_count": 1,
   "metadata": {},
   "outputs": [
    {
     "data": {
      "text/html": [
       "<div>\n",
       "<style scoped>\n",
       "    .dataframe tbody tr th:only-of-type {\n",
       "        vertical-align: middle;\n",
       "    }\n",
       "\n",
       "    .dataframe tbody tr th {\n",
       "        vertical-align: top;\n",
       "    }\n",
       "\n",
       "    .dataframe thead th {\n",
       "        text-align: right;\n",
       "    }\n",
       "</style>\n",
       "<table border=\"1\" class=\"dataframe\">\n",
       "  <thead>\n",
       "    <tr style=\"text-align: right;\">\n",
       "      <th></th>\n",
       "      <th>Congruent</th>\n",
       "      <th>Incongruent</th>\n",
       "    </tr>\n",
       "  </thead>\n",
       "  <tbody>\n",
       "    <tr>\n",
       "      <th>count</th>\n",
       "      <td>24.000000</td>\n",
       "      <td>24.000000</td>\n",
       "    </tr>\n",
       "    <tr>\n",
       "      <th>mean</th>\n",
       "      <td>14.051125</td>\n",
       "      <td>22.015917</td>\n",
       "    </tr>\n",
       "    <tr>\n",
       "      <th>std</th>\n",
       "      <td>3.559358</td>\n",
       "      <td>4.797057</td>\n",
       "    </tr>\n",
       "    <tr>\n",
       "      <th>min</th>\n",
       "      <td>8.630000</td>\n",
       "      <td>15.687000</td>\n",
       "    </tr>\n",
       "    <tr>\n",
       "      <th>25%</th>\n",
       "      <td>11.895250</td>\n",
       "      <td>18.716750</td>\n",
       "    </tr>\n",
       "    <tr>\n",
       "      <th>50%</th>\n",
       "      <td>14.356500</td>\n",
       "      <td>21.017500</td>\n",
       "    </tr>\n",
       "    <tr>\n",
       "      <th>75%</th>\n",
       "      <td>16.200750</td>\n",
       "      <td>24.051500</td>\n",
       "    </tr>\n",
       "    <tr>\n",
       "      <th>max</th>\n",
       "      <td>22.328000</td>\n",
       "      <td>35.255000</td>\n",
       "    </tr>\n",
       "  </tbody>\n",
       "</table>\n",
       "</div>"
      ],
      "text/plain": [
       "       Congruent  Incongruent\n",
       "count  24.000000    24.000000\n",
       "mean   14.051125    22.015917\n",
       "std     3.559358     4.797057\n",
       "min     8.630000    15.687000\n",
       "25%    11.895250    18.716750\n",
       "50%    14.356500    21.017500\n",
       "75%    16.200750    24.051500\n",
       "max    22.328000    35.255000"
      ]
     },
     "execution_count": 1,
     "metadata": {},
     "output_type": "execute_result"
    }
   ],
   "source": [
    "import pandas as pd\n",
    "df=pd.read_csv('stroopdata.csv')\n",
    "df.describe()"
   ]
  },
  {
   "cell_type": "code",
   "execution_count": 4,
   "metadata": {},
   "outputs": [
    {
     "data": {
      "text/plain": [
       "13.698000000000002"
      ]
     },
     "execution_count": 4,
     "metadata": {},
     "output_type": "execute_result"
    }
   ],
   "source": [
    "diff_congruent=df.Congruent.max()-df.Congruent.min()\n",
    "diff_congruent"
   ]
  },
  {
   "cell_type": "code",
   "execution_count": 5,
   "metadata": {},
   "outputs": [
    {
     "data": {
      "text/plain": [
       "19.568000000000001"
      ]
     },
     "execution_count": 5,
     "metadata": {},
     "output_type": "execute_result"
    }
   ],
   "source": [
    "diff_incongruent=df.Incongruent.max()-df.Incongruent.min()\n",
    "diff_incongruent"
   ]
  },
  {
   "cell_type": "markdown",
   "metadata": {},
   "source": [
    "报告中反应集中趋势的指标主要有平均数和中位数，文字颜色一致的读时平均数14.05小于不一致的平均数22.02；一致的中位数14.36也小于不一致的21.02。说明一致的耗时小于不一致的耗时。\n",
    "\n",
    "反应变异量的指标主要有标准差和极差，文字颜色一致的标准差3.56小于不一致的4.80；一致的极差13.70小于不一致的极差19.57。说明文字颜色一致数据间的差异性更小。\n",
    "\n",
    "参考文献：https://wenku.baidu.com/view/4fdb0984d4d8d15abe234edb.html"
   ]
  },
  {
   "cell_type": "markdown",
   "metadata": {},
   "source": [
    "(4) 提供显示样本数据分布的一个或两个可视化。用一两句话说明你从图中观察到的结果。"
   ]
  },
  {
   "cell_type": "code",
   "execution_count": 6,
   "metadata": {},
   "outputs": [
    {
     "data": {
      "text/plain": [
       "{'whiskers': [<matplotlib.lines.Line2D at 0x7f760ac626d8>,\n",
       "  <matplotlib.lines.Line2D at 0x7f760ac62c50>,\n",
       "  <matplotlib.lines.Line2D at 0x7f760ac026a0>,\n",
       "  <matplotlib.lines.Line2D at 0x7f760ac02b00>],\n",
       " 'caps': [<matplotlib.lines.Line2D at 0x7f760abf90b8>,\n",
       "  <matplotlib.lines.Line2D at 0x7f760abf94e0>,\n",
       "  <matplotlib.lines.Line2D at 0x7f760ac02f60>,\n",
       "  <matplotlib.lines.Line2D at 0x7f760ac0a400>],\n",
       " 'boxes': [<matplotlib.lines.Line2D at 0x7f760ac62588>,\n",
       "  <matplotlib.lines.Line2D at 0x7f760ac02278>],\n",
       " 'medians': [<matplotlib.lines.Line2D at 0x7f760abf9908>,\n",
       "  <matplotlib.lines.Line2D at 0x7f760ac0a860>],\n",
       " 'fliers': [<matplotlib.lines.Line2D at 0x7f760abf9d68>,\n",
       "  <matplotlib.lines.Line2D at 0x7f760ac0acc0>],\n",
       " 'means': []}"
      ]
     },
     "execution_count": 6,
     "metadata": {},
     "output_type": "execute_result"
    }
   ],
   "source": [
    "import numpy as np\n",
    "import matplotlib.pyplot as plt\n",
    "plt.title('Stroop test')\n",
    "plt.boxplot([df.Congruent, df.Incongruent],labels=df.columns)"
   ]
  },
  {
   "cell_type": "code",
   "execution_count": 11,
   "metadata": {},
   "outputs": [
    {
     "data": {
      "text/plain": [
       "Text(0,0.5,'person_num')"
      ]
     },
     "execution_count": 11,
     "metadata": {},
     "output_type": "execute_result"
    },
    {
     "data": {
      "image/png": "[encoded data removed]",
      "text/plain": [
       "<matplotlib.figure.Figure at 0x7f4d7c1e92b0>"
      ]
     },
     "metadata": {
      "needs_background": "light"
     },
     "output_type": "display_data"
    }
   ],
   "source": [
    "plt.hist([df.Congruent, df.Incongruent])\n",
    "plt.title('Stroop test')\n",
    "plt.xlabel('time')\n",
    "plt.ylabel('person_num')\n"
   ]
  },
  {
   "cell_type": "code",
   "execution_count": 8,
   "metadata": {},
   "outputs": [
    {
     "data": {
      "text/plain": [
       "<matplotlib.legend.Legend at 0x7f760aae68d0>"
      ]
     },
     "execution_count": 8,
     "metadata": {},
     "output_type": "execute_result"
    },
    {
     "data": {
      "image/png": "[encoded data removed]",
      "text/plain": [
       "<matplotlib.figure.Figure at 0x7f760ab85278>"
      ]
     },
     "metadata": {
      "needs_background": "light"
     },
     "output_type": "display_data"
    }
   ],
   "source": [
    "plt.title('Stroop test')\n",
    "plt.hist(df.Congruent,label='Congruent')\n",
    "plt.hist(df.Incongruent,label='Incongruent',alpha=0.8)\n",
    "plt.xlabel('time')\n",
    "plt.ylabel('person_num')\n",
    "plt.legend()"
   ]
  },
  {
   "cell_type": "markdown",
   "metadata": {},
   "source": [
    "两类图表显示，文字和油墨颜色不一致的时间大于一致的时间\n",
    "\n",
    "参考文献：https://ww2.mathworks.cn/help/stats/boxplot.html#bu3pip4\n",
    "\n",
    "          https://my.oschina.net/u/2474629/blog/1793008"
   ]
  },
  {
   "cell_type": "markdown",
   "metadata": {},
   "source": [
    "(5) 现在，执行统计测试并报告你的结果。你的置信水平和关键统计值是多少？你是否成功拒绝零假设？对试验任务得出一个结论。结果是否与你的期望一致？"
   ]
  },
  {
   "cell_type": "code",
   "execution_count": 6,
   "metadata": {},
   "outputs": [
    {
     "name": "stdout",
     "output_type": "stream",
     "text": [
      "-8.02070694411 4.10300058571e-08\n"
     ]
    }
   ],
   "source": [
    "from scipy import stats\n",
    "from scipy.stats import ttest_rel\n",
    "T_statistic,p_value=stats.ttest_rel(df.Congruent,df.Incongruent,)                                        \n",
    "print(T_statistic,p_value)"
   ]
  },
  {
   "cell_type": "markdown",
   "metadata": {},
   "source": [
    "95%的置信水平，自由度23（24-1）下，查表得t的临界值为2.069"
   ]
  },
  {
   "cell_type": "code",
   "execution_count": 11,
   "metadata": {},
   "outputs": [
    {
     "data": {
      "text/plain": [
       "array([-10.03379167,  -5.89579167])"
      ]
     },
     "execution_count": 11,
     "metadata": {},
     "output_type": "execute_result"
    }
   ],
   "source": [
    "mean_diff = (df.Congruent-df.Incongruent).mean()\n",
    "t_range=mean_diff+[-2.069,2.069]\n",
    "t_range"
   ]
  },
  {
   "cell_type": "markdown",
   "metadata": {},
   "source": [
    "t在95%的置信区间的取值范围为（-10.03，-5.90），-<font  size=3>t</font> <font  size=0.1 >0.05/2,23</font> < t < <font  size=3 >t</font> <font  size=0.1 >0.05/2,23</font> 。\n",
    "同样显著性水平α为0.05，p=4.10300058571e-08值小于0.05。\n",
    "因此我们拒绝零假设，接受备择假设，测试说明颜色与文字是否一致对读出时间有影响。\n",
    "通过实验我们得出塞特鲁普任务中发现的心理学现象，表明人在阅读文字时会受到外部及先验因素的影响。\n",
    "结果与图表分析及实验期望一致。\n",
    "\n",
    "参考文献：https://wenku.baidu.com/view/b394964f2b160b4e767fcfc8.html?sxts=1573004881708\n",
    "\n",
    "          https://www.cnblogs.com/IvyWong/p/10134012.html\n",
    "          \n",
    "          https://docs.scipy.org/doc/scipy-0.14.0/reference/generated/scipy.stats.ttest_rel.html"
   ]
  },
  {
   "cell_type": "markdown",
   "metadata": {},
   "source": [
    "统计学课程及教材：描述统计学及推论统计学课程；深入浅出统计学（中文版）教材"
   ]
  },
  {
   "cell_type": "code",
   "execution_count": null,
   "metadata": {},
   "outputs": [],
   "source": []
  }
 ],
 "metadata": {
  "anaconda-cloud": {},
  "kernelspec": {
   "display_name": "Python 3",
   "language": "python",
   "name": "python3"
  },
  "language_info": {
   "codemirror_mode": {
    "name": "ipython",
    "version": 3
   },
   "file_extension": ".py",
   "mimetype": "text/x-python",
   "name": "python",
   "nbconvert_exporter": "python",
   "pygments_lexer": "ipython3",
   "version": "3.6.3"
  }
 },
 "nbformat": 4,
 "nbformat_minor": 2
}
